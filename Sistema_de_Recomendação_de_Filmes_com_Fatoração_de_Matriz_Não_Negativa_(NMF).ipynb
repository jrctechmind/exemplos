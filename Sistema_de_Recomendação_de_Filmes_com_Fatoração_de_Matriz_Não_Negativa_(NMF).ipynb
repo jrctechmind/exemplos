{
  "nbformat": 4,
  "nbformat_minor": 0,
  "metadata": {
    "colab": {
      "provenance": [],
      "authorship_tag": "ABX9TyMOiLohVm31o26lLgKJ90rc",
      "include_colab_link": true
    },
    "kernelspec": {
      "name": "python3",
      "display_name": "Python 3"
    },
    "language_info": {
      "name": "python"
    }
  },
  "cells": [
    {
      "cell_type": "markdown",
      "metadata": {
        "id": "view-in-github",
        "colab_type": "text"
      },
      "source": [
        "<a href=\"https://colab.research.google.com/github/jrctechmind/exemplos/blob/main/Sistema_de_Recomenda%C3%A7%C3%A3o_de_Filmes_com_Fatora%C3%A7%C3%A3o_de_Matriz_N%C3%A3o_Negativa_(NMF).ipynb\" target=\"_parent\"><img src=\"https://colab.research.google.com/assets/colab-badge.svg\" alt=\"Open In Colab\"/></a>"
      ]
    },
    {
      "cell_type": "code",
      "source": [
        "# Importação das bibliotecas necessárias\n",
        "import pandas as pd\n",
        "import numpy as np\n",
        "from sklearn.metrics import mean_squared_error\n",
        "from sklearn.model_selection import train_test_split\n",
        "from sklearn.decomposition import NMF\n",
        "\n",
        "# Carregamento dos dados\n",
        "# Certifique-se de ter feito upload do arquivo 'movie_ratings.csv' antes de executar este código no Google Colab\n",
        "# O arquivo 'movie_ratings.csv' deve conter três colunas: 'user_id', 'movie_id' e 'rating'\n",
        "# Onde 'user_id' é o ID do usuário, 'movie_id' é o ID do filme e 'rating' é a classificação do filme pelo usuário\n",
        "data = pd.read_csv('movie_ratings.csv', sep=';')\n",
        "\n",
        "# Verificação dos dados\n",
        "print(\"Dados carregados com sucesso!\")\n",
        "print(\"Amostra dos dados:\")\n",
        "print(data.head())\n",
        "\n",
        "# Compreensão dos Dados\n",
        "# Este conjunto de dados contém avaliações de filmes por usuários.\n",
        "# Cada linha representa uma avaliação de um filme por um usuário.\n",
        "# Os valores variam de 1 a 5, representando a classificação do filme.\n",
        "\n",
        "# Data Science em Nuvem\n",
        "# Este exemplo não requer computação em nuvem, pois os dados e as operações são pequenos o suficiente para serem realizados localmente.\n",
        "\n",
        "# Modelagem de Dados\n",
        "# Vamos utilizar um modelo de Fatoração de Matriz Não-Negativa (NMF) para fazer recomendações de filmes.\n",
        "\n",
        "# Divisão dos dados em treino e teste\n",
        "train_data, test_data = train_test_split(data, test_size=0.2, random_state=42)\n",
        "\n",
        "# Criando uma matriz de avaliações de usuários para itens\n",
        "ratings_matrix = train_data.pivot(index='user_id', columns='movie_id', values='rating').fillna(0)\n",
        "\n",
        "# Treinamento do modelo NMF\n",
        "model = NMF(n_components=20, init='random', random_state=42)\n",
        "W = model.fit_transform(ratings_matrix)\n",
        "H = model.components_\n",
        "\n",
        "# Função para fazer recomendações para um usuário\n",
        "def recomendar(usuario):\n",
        "    recomendacoes = np.argsort(H[:, usuario])[::-1][:5]\n",
        "    return recomendacoes\n",
        "\n",
        "# Avaliação do desempenho do modelo\n",
        "recomendacoes = np.array([recomendar(usuario) for usuario in range(len(test_data))])\n",
        "# Converter as recomendações para o formato esperado\n",
        "recomendacoes_formatadas = np.array([[int(movie_id) for movie_id in usuario_recomendacoes] for usuario_recomendacoes in recomendacoes])\n",
        "\n",
        "# Filtrar as avaliações dos filmes que foram recomendados\n",
        "avaliacoes_recomendadas = test_data[test_data['movie_id'].isin(recomendacoes_formatadas.flatten())]\n",
        "\n",
        "# Calcular o RMSE apenas se houver avaliações recomendadas suficientes\n",
        "if len(avaliacoes_recomendadas) > 0:\n",
        "    # Calcular o RMSE\n",
        "    rmse = np.sqrt(mean_squared_error(avaliacoes_recomendadas['rating'], recomendacoes_formatadas.flatten()[:len(avaliacoes_recomendadas)]))\n",
        "    print(\"RMSE (Erro Quadrático Médio):\", rmse)\n",
        "else:\n",
        "    print(\"Não há avaliações de filmes recomendados para calcular o RMSE.\")\n",
        "\n",
        "# Interpretação dos Resultados\n",
        "# O RMSE é uma medida do erro médio das recomendações do modelo em relação às avaliações reais dos filmes pelos usuários.\n",
        "# Quanto menor o RMSE, melhor é o desempenho do modelo.\n",
        "\n",
        "# Conclusão\n",
        "# Este exemplo demonstra como usar técnicas de Data Science para recomendar filmes aos usuários com base em suas avaliações anteriores.\n",
        "# O modelo NMF foi usado para fazer recomendações de filmes, e o desempenho do modelo foi avaliado usando RMSE.\n"
      ],
      "metadata": {
        "colab": {
          "base_uri": "https://localhost:8080/"
        },
        "id": "_t8gTrUreBU5",
        "outputId": "17e98fe7-b453-465d-903d-7098175aa0c7"
      },
      "execution_count": 6,
      "outputs": [
        {
          "output_type": "stream",
          "name": "stdout",
          "text": [
            "Dados carregados com sucesso!\n",
            "Amostra dos dados:\n",
            "   user_id  movie_id  rating\n",
            "0        1         1       5\n",
            "1        1         2       4\n",
            "2        1         3       0\n",
            "3        1         4       0\n",
            "4        2         1       4\n",
            "RMSE (Erro Quadrático Médio): 6.020797289396148\n"
          ]
        }
      ]
    }
  ]
}