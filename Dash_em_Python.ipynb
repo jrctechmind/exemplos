{
  "nbformat": 4,
  "nbformat_minor": 0,
  "metadata": {
    "colab": {
      "provenance": [],
      "authorship_tag": "ABX9TyPqrrPJPepcStsjgDKnKy8t",
      "include_colab_link": true
    },
    "kernelspec": {
      "name": "python3",
      "display_name": "Python 3"
    },
    "language_info": {
      "name": "python"
    }
  },
  "cells": [
    {
      "cell_type": "markdown",
      "metadata": {
        "id": "view-in-github",
        "colab_type": "text"
      },
      "source": [
        "<a href=\"https://colab.research.google.com/github/jrctechmind/exemplos/blob/main/Dash_em_Python.ipynb\" target=\"_parent\"><img src=\"https://colab.research.google.com/assets/colab-badge.svg\" alt=\"Open In Colab\"/></a>"
      ]
    },
    {
      "cell_type": "code",
      "source": [
        "!pip install dash\n",
        "!pip install plotly\n",
        "\n",
        "import dash\n",
        "from dash import dcc, html\n",
        "from dash.dependencies import Input, Output\n",
        "import plotly.express as px\n",
        "import pandas as pd\n",
        "\n",
        "# Mensagem explicativa\n",
        "print(\"Carregando pacotes e bibliotecas...\")\n",
        "\n",
        "# Carregar dados de exemplo (neste caso, estamos usando o conjunto de dados Iris)\n",
        "df = px.data.iris()\n",
        "\n",
        "# Inicializar o aplicativo Dash\n",
        "print(\"Inicializando o aplicativo Dash...\")\n",
        "app = dash.Dash(__name__)\n",
        "\n",
        "# Layout do aplicativo (estrutura visual do aplicativo)\n",
        "print(\"Definindo o layout do aplicativo...\")\n",
        "app.layout = html.Div([\n",
        "    html.H1(\"Análise de Dados com Dash\"),  # Título do aplicativo\n",
        "\n",
        "    # Dropdown para selecionar a variável x\n",
        "    dcc.Dropdown(\n",
        "        id='dropdown-x',\n",
        "        options=[{'label': col, 'value': col} for col in df.columns[:-1]],  # Lista de opções baseada nas colunas do DataFrame\n",
        "        value='sepal_length'  # Valor padrão selecionado\n",
        "    ),\n",
        "\n",
        "    # Dropdown para selecionar a variável y\n",
        "    dcc.Dropdown(\n",
        "        id='dropdown-y',\n",
        "        options=[{'label': col, 'value': col} for col in df.columns[:-1]],  # Lista de opções baseada nas colunas do DataFrame\n",
        "        value='sepal_width'  # Valor padrão selecionado\n",
        "    ),\n",
        "\n",
        "    # Gráfico de dispersão\n",
        "    dcc.Graph(id='scatter-plot'),  # Elemento onde o gráfico será renderizado\n",
        "])\n",
        "\n",
        "# Callback para atualizar o gráfico de dispersão com base nas seleções dos dropdowns\n",
        "print(\"Definindo a função de callback...\")\n",
        "@app.callback(\n",
        "    Output('scatter-plot', 'figure'),  # Saída da callback: o gráfico de dispersão\n",
        "    [Input('dropdown-x', 'value'),  # Entradas da callback: valores selecionados nos dropdowns\n",
        "     Input('dropdown-y', 'value')]\n",
        ")\n",
        "def update_scatter_plot(x_var, y_var):\n",
        "    # Atualiza o gráfico de dispersão com base nas variáveis selecionadas\n",
        "    print(f\"Atualizando o gráfico de dispersão com as variáveis {x_var} e {y_var}...\")\n",
        "    fig = px.scatter(df, x=x_var, y=y_var, color='species')  # Cria um gráfico de dispersão com o Plotly Express\n",
        "    return fig\n",
        "\n",
        "# Mensagem informativa\n",
        "print(\"Aplicativo pronto para ser executado.\")\n",
        "\n",
        "# Executar o aplicativo\n",
        "if __name__ == '__main__':\n",
        "    app.run_server(debug=True)\n"
      ],
      "metadata": {
        "colab": {
          "base_uri": "https://localhost:8080/",
          "height": 1000
        },
        "id": "m23JYmImuOG-",
        "outputId": "ac9dbda1-7045-4d5c-aabe-012e31b1480a"
      },
      "execution_count": 3,
      "outputs": [
        {
          "output_type": "stream",
          "name": "stdout",
          "text": [
            "Requirement already satisfied: dash in /usr/local/lib/python3.10/dist-packages (2.16.1)\n",
            "Requirement already satisfied: Flask<3.1,>=1.0.4 in /usr/local/lib/python3.10/dist-packages (from dash) (2.2.5)\n",
            "Requirement already satisfied: Werkzeug<3.1 in /usr/local/lib/python3.10/dist-packages (from dash) (3.0.2)\n",
            "Requirement already satisfied: plotly>=5.0.0 in /usr/local/lib/python3.10/dist-packages (from dash) (5.15.0)\n",
            "Requirement already satisfied: dash-html-components==2.0.0 in /usr/local/lib/python3.10/dist-packages (from dash) (2.0.0)\n",
            "Requirement already satisfied: dash-core-components==2.0.0 in /usr/local/lib/python3.10/dist-packages (from dash) (2.0.0)\n",
            "Requirement already satisfied: dash-table==5.0.0 in /usr/local/lib/python3.10/dist-packages (from dash) (5.0.0)\n",
            "Requirement already satisfied: importlib-metadata in /usr/local/lib/python3.10/dist-packages (from dash) (7.1.0)\n",
            "Requirement already satisfied: typing-extensions>=4.1.1 in /usr/local/lib/python3.10/dist-packages (from dash) (4.11.0)\n",
            "Requirement already satisfied: requests in /usr/local/lib/python3.10/dist-packages (from dash) (2.31.0)\n",
            "Requirement already satisfied: retrying in /usr/local/lib/python3.10/dist-packages (from dash) (1.3.4)\n",
            "Requirement already satisfied: nest-asyncio in /usr/local/lib/python3.10/dist-packages (from dash) (1.6.0)\n",
            "Requirement already satisfied: setuptools in /usr/local/lib/python3.10/dist-packages (from dash) (67.7.2)\n",
            "Requirement already satisfied: Jinja2>=3.0 in /usr/local/lib/python3.10/dist-packages (from Flask<3.1,>=1.0.4->dash) (3.1.3)\n",
            "Requirement already satisfied: itsdangerous>=2.0 in /usr/local/lib/python3.10/dist-packages (from Flask<3.1,>=1.0.4->dash) (2.1.2)\n",
            "Requirement already satisfied: click>=8.0 in /usr/local/lib/python3.10/dist-packages (from Flask<3.1,>=1.0.4->dash) (8.1.7)\n",
            "Requirement already satisfied: tenacity>=6.2.0 in /usr/local/lib/python3.10/dist-packages (from plotly>=5.0.0->dash) (8.2.3)\n",
            "Requirement already satisfied: packaging in /usr/local/lib/python3.10/dist-packages (from plotly>=5.0.0->dash) (24.0)\n",
            "Requirement already satisfied: MarkupSafe>=2.1.1 in /usr/local/lib/python3.10/dist-packages (from Werkzeug<3.1->dash) (2.1.5)\n",
            "Requirement already satisfied: zipp>=0.5 in /usr/local/lib/python3.10/dist-packages (from importlib-metadata->dash) (3.18.1)\n",
            "Requirement already satisfied: charset-normalizer<4,>=2 in /usr/local/lib/python3.10/dist-packages (from requests->dash) (3.3.2)\n",
            "Requirement already satisfied: idna<4,>=2.5 in /usr/local/lib/python3.10/dist-packages (from requests->dash) (3.6)\n",
            "Requirement already satisfied: urllib3<3,>=1.21.1 in /usr/local/lib/python3.10/dist-packages (from requests->dash) (2.0.7)\n",
            "Requirement already satisfied: certifi>=2017.4.17 in /usr/local/lib/python3.10/dist-packages (from requests->dash) (2024.2.2)\n",
            "Requirement already satisfied: six>=1.7.0 in /usr/local/lib/python3.10/dist-packages (from retrying->dash) (1.16.0)\n",
            "Requirement already satisfied: plotly in /usr/local/lib/python3.10/dist-packages (5.15.0)\n",
            "Requirement already satisfied: tenacity>=6.2.0 in /usr/local/lib/python3.10/dist-packages (from plotly) (8.2.3)\n",
            "Requirement already satisfied: packaging in /usr/local/lib/python3.10/dist-packages (from plotly) (24.0)\n",
            "Carregando pacotes e bibliotecas...\n",
            "Inicializando o aplicativo Dash...\n",
            "Definindo o layout do aplicativo...\n",
            "Definindo a função de callback...\n",
            "Aplicativo pronto para ser executado.\n"
          ]
        },
        {
          "output_type": "display_data",
          "data": {
            "text/plain": [
              "<IPython.core.display.Javascript object>"
            ],
            "application/javascript": [
              "(async (port, path, width, height, cache, element) => {\n",
              "    if (!google.colab.kernel.accessAllowed && !cache) {\n",
              "      return;\n",
              "    }\n",
              "    element.appendChild(document.createTextNode(''));\n",
              "    const url = await google.colab.kernel.proxyPort(port, {cache});\n",
              "    const iframe = document.createElement('iframe');\n",
              "    iframe.src = new URL(path, url).toString();\n",
              "    iframe.height = height;\n",
              "    iframe.width = width;\n",
              "    iframe.style.border = 0;\n",
              "    iframe.allow = [\n",
              "        'accelerometer',\n",
              "        'autoplay',\n",
              "        'camera',\n",
              "        'clipboard-read',\n",
              "        'clipboard-write',\n",
              "        'gyroscope',\n",
              "        'magnetometer',\n",
              "        'microphone',\n",
              "        'serial',\n",
              "        'usb',\n",
              "        'xr-spatial-tracking',\n",
              "    ].join('; ');\n",
              "    element.appendChild(iframe);\n",
              "  })(8050, \"/\", \"100%\", 650, false, window.element)"
            ]
          },
          "metadata": {}
        }
      ]
    }
  ]
}