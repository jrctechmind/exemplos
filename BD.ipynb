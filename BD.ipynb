{
  "nbformat": 4,
  "nbformat_minor": 0,
  "metadata": {
    "colab": {
      "provenance": [],
      "authorship_tag": "ABX9TyPcpe/dFdv12Ehs1v6woYIB",
      "include_colab_link": true
    },
    "kernelspec": {
      "name": "python3",
      "display_name": "Python 3"
    },
    "language_info": {
      "name": "python"
    }
  },
  "cells": [
    {
      "cell_type": "markdown",
      "metadata": {
        "id": "view-in-github",
        "colab_type": "text"
      },
      "source": [
        "<a href=\"https://colab.research.google.com/github/jrctechmind/exemplos/blob/main/BD.ipynb\" target=\"_parent\"><img src=\"https://colab.research.google.com/assets/colab-badge.svg\" alt=\"Open In Colab\"/></a>"
      ]
    },
    {
      "cell_type": "code",
      "execution_count": 1,
      "metadata": {
        "colab": {
          "base_uri": "https://localhost:8080/"
        },
        "id": "9VYsziPO1dLA",
        "outputId": "b6608f7a-4902-4f65-afce-72c1043ec51f"
      },
      "outputs": [
        {
          "output_type": "stream",
          "name": "stdout",
          "text": [
            "(1, 'Roupas', None)\n",
            "(2, 'Camisetas', 1)\n",
            "(3, 'Calças', 1)\n",
            "(4, 'Vestidos', 1)\n"
          ]
        }
      ],
      "source": [
        "import sqlite3\n",
        "\n",
        "# Criar conexão com o banco de dados\n",
        "conn = sqlite3.connect('hierarchical.db')\n",
        "cursor = conn.cursor()\n",
        "\n",
        "# Criar tabela de categorias\n",
        "cursor.execute('''\n",
        "CREATE TABLE categories (\n",
        "    id INTEGER PRIMARY KEY AUTOINCREMENT,\n",
        "    name TEXT NOT NULL,\n",
        "    parent_id INTEGER,\n",
        "    FOREIGN KEY (parent_id) REFERENCES categories(id)\n",
        ");\n",
        "''')\n",
        "\n",
        "# Inserir categorias\n",
        "cursor.execute('INSERT INTO categories (name) VALUES (?)', ('Roupas',))\n",
        "cursor.execute('INSERT INTO categories (name, parent_id) VALUES (?, ?)', ('Camisetas', 1))\n",
        "cursor.execute('INSERT INTO categories (name, parent_id) VALUES (?, ?)', ('Calças', 1))\n",
        "cursor.execute('INSERT INTO categories (name, parent_id) VALUES (?, ?)', ('Vestidos', 1))\n",
        "\n",
        "# Consultar categorias\n",
        "cursor.execute('SELECT * FROM categories')\n",
        "categories = cursor.fetchall()\n",
        "for category in categories:\n",
        "    print(category)\n",
        "\n",
        "# Fechar conexão com o banco de dados\n",
        "conn.close()\n"
      ]
    }
  ]
}