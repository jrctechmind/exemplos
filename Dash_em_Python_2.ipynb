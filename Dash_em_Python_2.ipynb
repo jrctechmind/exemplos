{
  "nbformat": 4,
  "nbformat_minor": 0,
  "metadata": {
    "colab": {
      "provenance": [],
      "authorship_tag": "ABX9TyMwmABlr3TWrwU9ngk8L7/P",
      "include_colab_link": true
    },
    "kernelspec": {
      "name": "python3",
      "display_name": "Python 3"
    },
    "language_info": {
      "name": "python"
    }
  },
  "cells": [
    {
      "cell_type": "markdown",
      "metadata": {
        "id": "view-in-github",
        "colab_type": "text"
      },
      "source": [
        "<a href=\"https://colab.research.google.com/github/jrctechmind/exemplos/blob/main/Dash_em_Python_2.ipynb\" target=\"_parent\"><img src=\"https://colab.research.google.com/assets/colab-badge.svg\" alt=\"Open In Colab\"/></a>"
      ]
    },
    {
      "cell_type": "code",
      "execution_count": 1,
      "metadata": {
        "colab": {
          "base_uri": "https://localhost:8080/",
          "height": 1000
        },
        "id": "geYLa37evBYa",
        "outputId": "6b9d0ae2-420d-44a0-aa66-85a707db5c07"
      },
      "outputs": [
        {
          "output_type": "stream",
          "name": "stdout",
          "text": [
            "Collecting dash\n",
            "  Downloading dash-2.16.1-py3-none-any.whl (10.2 MB)\n",
            "\u001b[2K     \u001b[90m━━━━━━━━━━━━━━━━━━━━━━━━━━━━━━━━━━━━━━━━\u001b[0m \u001b[32m10.2/10.2 MB\u001b[0m \u001b[31m17.4 MB/s\u001b[0m eta \u001b[36m0:00:00\u001b[0m\n",
            "\u001b[?25hRequirement already satisfied: Flask<3.1,>=1.0.4 in /usr/local/lib/python3.10/dist-packages (from dash) (2.2.5)\n",
            "Requirement already satisfied: Werkzeug<3.1 in /usr/local/lib/python3.10/dist-packages (from dash) (3.0.2)\n",
            "Requirement already satisfied: plotly>=5.0.0 in /usr/local/lib/python3.10/dist-packages (from dash) (5.15.0)\n",
            "Collecting dash-html-components==2.0.0 (from dash)\n",
            "  Downloading dash_html_components-2.0.0-py3-none-any.whl (4.1 kB)\n",
            "Collecting dash-core-components==2.0.0 (from dash)\n",
            "  Downloading dash_core_components-2.0.0-py3-none-any.whl (3.8 kB)\n",
            "Collecting dash-table==5.0.0 (from dash)\n",
            "  Downloading dash_table-5.0.0-py3-none-any.whl (3.9 kB)\n",
            "Requirement already satisfied: importlib-metadata in /usr/local/lib/python3.10/dist-packages (from dash) (7.1.0)\n",
            "Requirement already satisfied: typing-extensions>=4.1.1 in /usr/local/lib/python3.10/dist-packages (from dash) (4.11.0)\n",
            "Requirement already satisfied: requests in /usr/local/lib/python3.10/dist-packages (from dash) (2.31.0)\n",
            "Collecting retrying (from dash)\n",
            "  Downloading retrying-1.3.4-py3-none-any.whl (11 kB)\n",
            "Requirement already satisfied: nest-asyncio in /usr/local/lib/python3.10/dist-packages (from dash) (1.6.0)\n",
            "Requirement already satisfied: setuptools in /usr/local/lib/python3.10/dist-packages (from dash) (67.7.2)\n",
            "Requirement already satisfied: Jinja2>=3.0 in /usr/local/lib/python3.10/dist-packages (from Flask<3.1,>=1.0.4->dash) (3.1.3)\n",
            "Requirement already satisfied: itsdangerous>=2.0 in /usr/local/lib/python3.10/dist-packages (from Flask<3.1,>=1.0.4->dash) (2.1.2)\n",
            "Requirement already satisfied: click>=8.0 in /usr/local/lib/python3.10/dist-packages (from Flask<3.1,>=1.0.4->dash) (8.1.7)\n",
            "Requirement already satisfied: tenacity>=6.2.0 in /usr/local/lib/python3.10/dist-packages (from plotly>=5.0.0->dash) (8.2.3)\n",
            "Requirement already satisfied: packaging in /usr/local/lib/python3.10/dist-packages (from plotly>=5.0.0->dash) (24.0)\n",
            "Requirement already satisfied: MarkupSafe>=2.1.1 in /usr/local/lib/python3.10/dist-packages (from Werkzeug<3.1->dash) (2.1.5)\n",
            "Requirement already satisfied: zipp>=0.5 in /usr/local/lib/python3.10/dist-packages (from importlib-metadata->dash) (3.18.1)\n",
            "Requirement already satisfied: charset-normalizer<4,>=2 in /usr/local/lib/python3.10/dist-packages (from requests->dash) (3.3.2)\n",
            "Requirement already satisfied: idna<4,>=2.5 in /usr/local/lib/python3.10/dist-packages (from requests->dash) (3.6)\n",
            "Requirement already satisfied: urllib3<3,>=1.21.1 in /usr/local/lib/python3.10/dist-packages (from requests->dash) (2.0.7)\n",
            "Requirement already satisfied: certifi>=2017.4.17 in /usr/local/lib/python3.10/dist-packages (from requests->dash) (2024.2.2)\n",
            "Requirement already satisfied: six>=1.7.0 in /usr/local/lib/python3.10/dist-packages (from retrying->dash) (1.16.0)\n",
            "Installing collected packages: dash-table, dash-html-components, dash-core-components, retrying, dash\n",
            "Successfully installed dash-2.16.1 dash-core-components-2.0.0 dash-html-components-2.0.0 dash-table-5.0.0 retrying-1.3.4\n",
            "Requirement already satisfied: plotly in /usr/local/lib/python3.10/dist-packages (5.15.0)\n",
            "Requirement already satisfied: tenacity>=6.2.0 in /usr/local/lib/python3.10/dist-packages (from plotly) (8.2.3)\n",
            "Requirement already satisfied: packaging in /usr/local/lib/python3.10/dist-packages (from plotly) (24.0)\n",
            "Carregando pacotes e bibliotecas...\n",
            "Inicializando o aplicativo Dash...\n",
            "Definindo o layout do aplicativo...\n",
            "Definindo a função de callback...\n",
            "Aplicativo pronto para ser executado.\n"
          ]
        },
        {
          "output_type": "stream",
          "name": "stderr",
          "text": [
            "<ipython-input-1-00f0088e5825>:9: UserWarning: \n",
            "The dash_table package is deprecated. Please replace\n",
            "`import dash_table` with `from dash import dash_table`\n",
            "\n",
            "Also, if you're using any of the table format helpers (e.g. Group), replace \n",
            "`from dash_table.Format import Group` with \n",
            "`from dash.dash_table.Format import Group`\n",
            "  import dash_table\n"
          ]
        },
        {
          "output_type": "display_data",
          "data": {
            "text/plain": [
              "<IPython.core.display.Javascript object>"
            ],
            "application/javascript": [
              "(async (port, path, width, height, cache, element) => {\n",
              "    if (!google.colab.kernel.accessAllowed && !cache) {\n",
              "      return;\n",
              "    }\n",
              "    element.appendChild(document.createTextNode(''));\n",
              "    const url = await google.colab.kernel.proxyPort(port, {cache});\n",
              "    const iframe = document.createElement('iframe');\n",
              "    iframe.src = new URL(path, url).toString();\n",
              "    iframe.height = height;\n",
              "    iframe.width = width;\n",
              "    iframe.style.border = 0;\n",
              "    iframe.allow = [\n",
              "        'accelerometer',\n",
              "        'autoplay',\n",
              "        'camera',\n",
              "        'clipboard-read',\n",
              "        'clipboard-write',\n",
              "        'gyroscope',\n",
              "        'magnetometer',\n",
              "        'microphone',\n",
              "        'serial',\n",
              "        'usb',\n",
              "        'xr-spatial-tracking',\n",
              "    ].join('; ');\n",
              "    element.appendChild(iframe);\n",
              "  })(8050, \"/\", \"100%\", 650, false, window.element)"
            ]
          },
          "metadata": {}
        }
      ],
      "source": [
        "!pip install dash\n",
        "!pip install plotly\n",
        "\n",
        "import dash\n",
        "from dash import dcc, html\n",
        "from dash.dependencies import Input, Output\n",
        "import plotly.express as px\n",
        "import pandas as pd\n",
        "import dash_table\n",
        "\n",
        "# Mensagem explicativa\n",
        "print(\"Carregando pacotes e bibliotecas...\")\n",
        "\n",
        "# Carregar dados de exemplo (neste caso, estamos usando o conjunto de dados Iris)\n",
        "df = px.data.iris()\n",
        "\n",
        "# Inicializar o aplicativo Dash\n",
        "print(\"Inicializando o aplicativo Dash...\")\n",
        "app = dash.Dash(__name__)\n",
        "\n",
        "# Layout do aplicativo (estrutura visual do aplicativo)\n",
        "print(\"Definindo o layout do aplicativo...\")\n",
        "app.layout = html.Div([\n",
        "    html.H1(\"Análise de Dados com Dash\"),  # Título do aplicativo\n",
        "\n",
        "    # Dropdown para selecionar a variável x\n",
        "    dcc.Dropdown(\n",
        "        id='dropdown-x',\n",
        "        options=[{'label': col, 'value': col} for col in df.columns[:-1]],  # Lista de opções baseada nas colunas do DataFrame\n",
        "        value='sepal_length'  # Valor padrão selecionado\n",
        "    ),\n",
        "\n",
        "    # Dropdown para selecionar a variável y\n",
        "    dcc.Dropdown(\n",
        "        id='dropdown-y',\n",
        "        options=[{'label': col, 'value': col} for col in df.columns[:-1]],  # Lista de opções baseada nas colunas do DataFrame\n",
        "        value='sepal_width'  # Valor padrão selecionado\n",
        "    ),\n",
        "\n",
        "    # Gráfico de dispersão\n",
        "    dcc.Graph(id='scatter-plot'),  # Elemento onde o gráfico será renderizado\n",
        "\n",
        "    # Tabela para exibir estatísticas descritivas\n",
        "    dash_table.DataTable(\n",
        "        id='data-summary-table',\n",
        "        columns=[{\"name\": i, \"id\": i} for i in df.describe().columns],\n",
        "        data=df.describe().to_dict('records'),\n",
        "        style_table={'overflowX': 'auto'},\n",
        "    )\n",
        "])\n",
        "\n",
        "# Callback para atualizar o gráfico de dispersão com base nas seleções dos dropdowns\n",
        "print(\"Definindo a função de callback...\")\n",
        "@app.callback(\n",
        "    Output('scatter-plot', 'figure'),  # Saída da callback: o gráfico de dispersão\n",
        "    [Input('dropdown-x', 'value'),  # Entradas da callback: valores selecionados nos dropdowns\n",
        "     Input('dropdown-y', 'value')]\n",
        ")\n",
        "def update_scatter_plot(x_var, y_var):\n",
        "    # Atualiza o gráfico de dispersão com base nas variáveis selecionadas\n",
        "    print(f\"Atualizando o gráfico de dispersão com as variáveis {x_var} e {y_var}...\")\n",
        "    fig = px.scatter(df, x=x_var, y=y_var, color='species')  # Cria um gráfico de dispersão com o Plotly Express\n",
        "    return fig\n",
        "\n",
        "# Mensagem informativa\n",
        "print(\"Aplicativo pronto para ser executado.\")\n",
        "\n",
        "# Executar o aplicativo\n",
        "if __name__ == '__main__':\n",
        "    app.run_server(debug=True)\n"
      ]
    }
  ]
}